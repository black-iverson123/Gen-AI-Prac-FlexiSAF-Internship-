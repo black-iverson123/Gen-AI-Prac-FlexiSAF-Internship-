{
 "cells": [
  {
   "cell_type": "markdown",
   "metadata": {},
   "source": [
    "Importing all required libraries and modules, initializing cuda for model training"
   ]
  },
  {
   "cell_type": "code",
   "execution_count": 5,
   "metadata": {},
   "outputs": [],
   "source": [
    "import torch\n",
    "import torch.nn as nn\n",
    "import torch.optim as optim\n",
    "import nltk\n",
    "from nltk.corpus import gutenberg\n",
    "from nltk.tokenize import word_tokenize\n",
    "\n",
    "#seting device hardware config to train module on either cpu or gpu\n",
    "device = torch.device('cuda' if torch.cuda.is_available() else 'cpu')"
   ]
  },
  {
   "cell_type": "markdown",
   "metadata": {},
   "source": [
    "Developing the Model class"
   ]
  },
  {
   "cell_type": "code",
   "execution_count": 3,
   "metadata": {},
   "outputs": [],
   "source": [
    "class StoryModel(nn.Module):\n",
    "    def __init__(self, length_words, embed_size, hidden_size, num_layers):\n",
    "        super(StoryModel, self).__init__()\n",
    "        self.embed = nn.Embedding(length_words, embed_size)\n",
    "        self.lstm = nn.LSTM(length_words, hidden_size, num_layers, batch_first=True)\n",
    "        self.fc = nn.Linear(hidden_size, length_words)\n",
    "        \n",
    "    def forward(self, x, hidden):\n",
    "        x = self.embed(x)\n",
    "        out, hidden = self.lstm(x, hidden)\n",
    "        out = self.fc(out)\n",
    "        return out, hidden\n",
    "    \n",
    "    def init_hidden(self, batchs_size):\n",
    "        hidden = (torch.zeros(num_layes, batchs_size, hidden_size).to(devce),\n",
    "                  torch.zeros(num_layes, batchs_size,hidden_size).to(device))\n",
    "        return hidden"
   ]
  },
  {
   "cell_type": "markdown",
   "metadata": {},
   "source": [
    "Model parameters and model creation"
   ]
  },
  {
   "cell_type": "code",
   "execution_count": 4,
   "metadata": {},
   "outputs": [],
   "source": [
    "length_words = 100\n",
    "embed_size = 128\n",
    "hidden_size = 256\n",
    "num_layers = 2\n",
    "seq_length = 20"
   ]
  },
  {
   "cell_type": "code",
   "execution_count": null,
   "metadata": {},
   "outputs": [],
   "source": [
    "model = StoryModel(length_words, embed_size, hidden_size,num_layers, seq_length)\n",
    "criterion = nn.CrossEntropyLoss()\n",
    "optimizer = optim.adam(model.parameters, lr=0.001)"
   ]
  },
  {
   "cell_type": "markdown",
   "metadata": {},
   "source": [
    "Data Preparation: \n",
    "Here i use the gutenberg text file from nltk library \"Alice in Wonderland\" by lewis caroll\n",
    "\n",
    "note print statements and values given"
   ]
  },
  {
   "cell_type": "code",
   "execution_count": 12,
   "metadata": {},
   "outputs": [
    {
     "name": "stdout",
     "output_type": "stream",
     "text": [
      "26443\n",
      "4942\n",
      "26443\n"
     ]
    }
   ],
   "source": [
    "text = gutenberg.raw(\"carroll-alice.txt\")\n",
    "\n",
    "# confirm file is loaded\n",
    "assert text is not None, \"file not found\"\n",
    "\n",
    "# all text will now be converted to lower forms and split\n",
    "tokens = text.lower().split()\n",
    "print(len(tokens))\n",
    "\n",
    "#Creating a word vovabulary based in this tokens\n",
    "vocab = list(set(tokens))\n",
    "word_index = {word: idx for idx, word in enumerate(vocab)}\n",
    "index__word = {idx: word for word, idx in word_index.items()}\n",
    "\n",
    "print(len(word_index))\n",
    "\n",
    "#converting tokens to indices\n",
    "input_seq = [word_index[word] for word in tokens]\n",
    "print(len(input_seq))"
   ]
  },
  {
   "cell_type": "code",
   "execution_count": null,
   "metadata": {},
   "outputs": [],
   "source": []
  }
 ],
 "metadata": {
  "kernelspec": {
   "display_name": "Python 3",
   "language": "python",
   "name": "python3"
  },
  "language_info": {
   "codemirror_mode": {
    "name": "ipython",
    "version": 3
   },
   "file_extension": ".py",
   "mimetype": "text/x-python",
   "name": "python",
   "nbconvert_exporter": "python",
   "pygments_lexer": "ipython3",
   "version": "3.11.4"
  }
 },
 "nbformat": 4,
 "nbformat_minor": 2
}
